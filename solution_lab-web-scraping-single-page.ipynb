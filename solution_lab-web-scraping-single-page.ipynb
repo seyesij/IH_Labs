{
 "cells": [
  {
   "cell_type": "code",
   "execution_count": 1,
   "id": "84c10166",
   "metadata": {},
   "outputs": [],
   "source": [
    "import requests\n",
    "import pandas as pd \n",
    "from bs4 import BeautifulSoup"
   ]
  },
  {
   "cell_type": "code",
   "execution_count": 2,
   "id": "9c893803",
   "metadata": {},
   "outputs": [],
   "source": [
    "url = \"https://www.popvortex.com/music/charts/top-100-songs.php\"\n",
    "\n",
    "#download html with a get request\n",
    "response = requests.get(url)\n",
    "response.status_code\n",
    "\n",
    "#parse html (create the 'soup')\n",
    "soup = BeautifulSoup(response.content, \"html.parser\")"
   ]
  },
  {
   "cell_type": "code",
   "execution_count": 3,
   "id": "062853ba",
   "metadata": {},
   "outputs": [],
   "source": [
    "#soup"
   ]
  },
  {
   "cell_type": "code",
   "execution_count": 4,
   "id": "da036f48",
   "metadata": {},
   "outputs": [
    {
     "data": {
      "text/plain": [
       "[<p class=\"title-artist\"><cite class=\"title\">Last Night</cite><em class=\"artist\">Morgan Wallen</em></p>]"
      ]
     },
     "execution_count": 4,
     "metadata": {},
     "output_type": "execute_result"
    }
   ],
   "source": [
    "soup.select(\"#chart-position-1 > div.chart-content.col-xs-12.col-sm-8 > p\")"
   ]
  },
  {
   "cell_type": "code",
   "execution_count": 5,
   "id": "e400fad8",
   "metadata": {},
   "outputs": [
    {
     "data": {
      "text/plain": [
       "'Last Night'"
      ]
     },
     "execution_count": 5,
     "metadata": {},
     "output_type": "execute_result"
    }
   ],
   "source": [
    "soup.select(\"div.chart-content.col-xs-12.col-sm-8 > p > cite\")[0].get_text()"
   ]
  },
  {
   "cell_type": "code",
   "execution_count": 6,
   "id": "33b575b5",
   "metadata": {},
   "outputs": [
    {
     "data": {
      "text/plain": [
       "'Morgan Wallen'"
      ]
     },
     "execution_count": 6,
     "metadata": {},
     "output_type": "execute_result"
    }
   ],
   "source": [
    "soup.select(\"div.chart-content.col-xs-12.col-sm-8 > p > em\")[0].get_text()"
   ]
  },
  {
   "cell_type": "code",
   "execution_count": 7,
   "id": "fd0cf233",
   "metadata": {},
   "outputs": [],
   "source": [
    "title = []\n",
    "artist = []\n",
    "\n",
    "num_iter = len(soup.select(\"div.chart-content.col-xs-12.col-sm-8 > p > cite\"))\n",
    "tlist = soup.select(\"div.chart-content.col-xs-12.col-sm-8 > p > cite\")\n",
    "alist = soup.select(\"div.chart-content.col-xs-12.col-sm-8 > p > em\")\n",
    "\n",
    "# iterate through the result set and retrive all the data\n",
    "for i in range(num_iter):\n",
    "    title.append(tlist[i].get_text())\n",
    "    artist.append(alist[i].get_text())"
   ]
  },
  {
   "cell_type": "code",
   "execution_count": 8,
   "id": "9fa65661",
   "metadata": {},
   "outputs": [],
   "source": [
    "top100 = pd.DataFrame({\"title\":title, \"artist\":artist})"
   ]
  },
  {
   "cell_type": "code",
   "execution_count": 9,
   "id": "179df350",
   "metadata": {},
   "outputs": [
    {
     "data": {
      "text/html": [
       "<div>\n",
       "<style scoped>\n",
       "    .dataframe tbody tr th:only-of-type {\n",
       "        vertical-align: middle;\n",
       "    }\n",
       "\n",
       "    .dataframe tbody tr th {\n",
       "        vertical-align: top;\n",
       "    }\n",
       "\n",
       "    .dataframe thead th {\n",
       "        text-align: right;\n",
       "    }\n",
       "</style>\n",
       "<table border=\"1\" class=\"dataframe\">\n",
       "  <thead>\n",
       "    <tr style=\"text-align: right;\">\n",
       "      <th></th>\n",
       "      <th>title</th>\n",
       "      <th>artist</th>\n",
       "    </tr>\n",
       "  </thead>\n",
       "  <tbody>\n",
       "    <tr>\n",
       "      <th>0</th>\n",
       "      <td>Last Night</td>\n",
       "      <td>Morgan Wallen</td>\n",
       "    </tr>\n",
       "    <tr>\n",
       "      <th>1</th>\n",
       "      <td>Flowers</td>\n",
       "      <td>Miley Cyrus</td>\n",
       "    </tr>\n",
       "    <tr>\n",
       "      <th>2</th>\n",
       "      <td>Fast Car</td>\n",
       "      <td>Luke Combs</td>\n",
       "    </tr>\n",
       "    <tr>\n",
       "      <th>3</th>\n",
       "      <td>Like Crazy (Deep House Remix)</td>\n",
       "      <td>Jimin</td>\n",
       "    </tr>\n",
       "    <tr>\n",
       "      <th>4</th>\n",
       "      <td>Like Crazy (UK Garage Remix)</td>\n",
       "      <td>Jimin</td>\n",
       "    </tr>\n",
       "  </tbody>\n",
       "</table>\n",
       "</div>"
      ],
      "text/plain": [
       "                           title         artist\n",
       "0                     Last Night  Morgan Wallen\n",
       "1                        Flowers    Miley Cyrus\n",
       "2                       Fast Car     Luke Combs\n",
       "3  Like Crazy (Deep House Remix)          Jimin\n",
       "4   Like Crazy (UK Garage Remix)          Jimin"
      ]
     },
     "execution_count": 9,
     "metadata": {},
     "output_type": "execute_result"
    }
   ],
   "source": [
    "top100.head()"
   ]
  },
  {
   "cell_type": "markdown",
   "id": "e1d35715",
   "metadata": {},
   "source": [
    "## Get another top 100 song list"
   ]
  },
  {
   "cell_type": "code",
   "execution_count": 10,
   "id": "8cce1a66",
   "metadata": {},
   "outputs": [],
   "source": [
    "url = \"https://www.officialcharts.com/charts/singles-chart/\"\n",
    "response = requests.get(url)\n",
    "response.status_code\n",
    "soup = BeautifulSoup(response.content, \"html.parser\")"
   ]
  },
  {
   "cell_type": "code",
   "execution_count": 11,
   "id": "dfbe88c0",
   "metadata": {},
   "outputs": [],
   "source": [
    "# soup.select(\"#main > article > div > div.grid__cell.unit-2-3--desktop > section > table > tbody > tr:nth-child(2) > td:nth-child(3)\")"
   ]
  },
  {
   "cell_type": "code",
   "execution_count": 12,
   "id": "f3b84f04",
   "metadata": {},
   "outputs": [
    {
     "data": {
      "text/plain": [
       "'\\nMILEY CYRUS\\n'"
      ]
     },
     "execution_count": 12,
     "metadata": {},
     "output_type": "execute_result"
    }
   ],
   "source": [
    "#soup.select(\"table\")[0].find_all(\"div\", {\"class\":[\"title\", \"artist\"]})\n",
    "soup.select(\"table\")[0].find_all(\"div\", class_=\"artist\")[0].get_text()"
   ]
  },
  {
   "cell_type": "code",
   "execution_count": 13,
   "id": "d9ec413f",
   "metadata": {},
   "outputs": [],
   "source": [
    "song_title = []\n",
    "artist_name = []\n",
    "\n",
    "num_iters = len(soup.select(\"table\")[0].find_all(\"div\", class_=\"title\"))\n",
    "slist = soup.select(\"table\")[0].find_all(\"div\", class_=\"title\")\n",
    "alist = soup.select(\"table\")[0].find_all(\"div\", class_=\"artist\")\n",
    "\n",
    "# iterate through the result set and retrive all the data\n",
    "for i in range(num_iters):\n",
    "    song_title.append(slist[i].get_text())\n",
    "    artist_name.append(alist[i].get_text())"
   ]
  },
  {
   "cell_type": "code",
   "execution_count": 14,
   "id": "fd13deee",
   "metadata": {},
   "outputs": [
    {
     "name": "stdout",
     "output_type": "stream",
     "text": [
      "(100, 2)\n"
     ]
    },
    {
     "data": {
      "text/html": [
       "<div>\n",
       "<style scoped>\n",
       "    .dataframe tbody tr th:only-of-type {\n",
       "        vertical-align: middle;\n",
       "    }\n",
       "\n",
       "    .dataframe tbody tr th {\n",
       "        vertical-align: top;\n",
       "    }\n",
       "\n",
       "    .dataframe thead th {\n",
       "        text-align: right;\n",
       "    }\n",
       "</style>\n",
       "<table border=\"1\" class=\"dataframe\">\n",
       "  <thead>\n",
       "    <tr style=\"text-align: right;\">\n",
       "      <th></th>\n",
       "      <th>title</th>\n",
       "      <th>artist</th>\n",
       "    </tr>\n",
       "  </thead>\n",
       "  <tbody>\n",
       "    <tr>\n",
       "      <th>0</th>\n",
       "      <td>\\nFLOWERS\\n</td>\n",
       "      <td>\\nMILEY CYRUS\\n</td>\n",
       "    </tr>\n",
       "    <tr>\n",
       "      <th>1</th>\n",
       "      <td>\\nMIRACLE\\n</td>\n",
       "      <td>\\nCALVIN HARRIS/ELLIE GOULDING\\n</td>\n",
       "    </tr>\n",
       "    <tr>\n",
       "      <th>2</th>\n",
       "      <td>\\nDIE FOR YOU\\n</td>\n",
       "      <td>\\nWEEKND\\n</td>\n",
       "    </tr>\n",
       "    <tr>\n",
       "      <th>3</th>\n",
       "      <td>\\nCALM DOWN\\n</td>\n",
       "      <td>\\nREMA\\n</td>\n",
       "    </tr>\n",
       "    <tr>\n",
       "      <th>4</th>\n",
       "      <td>\\nPEOPLE\\n</td>\n",
       "      <td>\\nLIBIANCA\\n</td>\n",
       "    </tr>\n",
       "  </tbody>\n",
       "</table>\n",
       "</div>"
      ],
      "text/plain": [
       "             title                            artist\n",
       "0      \\nFLOWERS\\n                   \\nMILEY CYRUS\\n\n",
       "1      \\nMIRACLE\\n  \\nCALVIN HARRIS/ELLIE GOULDING\\n\n",
       "2  \\nDIE FOR YOU\\n                        \\nWEEKND\\n\n",
       "3    \\nCALM DOWN\\n                          \\nREMA\\n\n",
       "4       \\nPEOPLE\\n                      \\nLIBIANCA\\n"
      ]
     },
     "execution_count": 14,
     "metadata": {},
     "output_type": "execute_result"
    }
   ],
   "source": [
    "top100_two = pd.DataFrame({\"title\":song_title, \"artist\":artist_name})\n",
    "print(top100_two.shape)\n",
    "top100_two.head()"
   ]
  },
  {
   "cell_type": "code",
   "execution_count": null,
   "id": "d6d10225",
   "metadata": {},
   "outputs": [],
   "source": []
  },
  {
   "cell_type": "markdown",
   "id": "c86d292c",
   "metadata": {},
   "source": [
    "## Song Recommender"
   ]
  },
  {
   "cell_type": "code",
   "execution_count": 15,
   "id": "ba16ac15",
   "metadata": {},
   "outputs": [],
   "source": [
    "import random\n",
    "\n",
    "def songrecommender():\n",
    "    song = input(\"Enter song name: \")\n",
    "    artist = input(\"Enter artist name: \")\n",
    "    \n",
    "    for i in range(len(top100.values)):\n",
    "        if (song in top100.values[i][0]) & (artist in top100.values[i][1]):\n",
    "            recommendation = top100[(top100['title'] != song) & (top100['artist'] != artist)].iloc[random.randint(0,99)]\n",
    "            return \"We recommend: \" + recommendation.title + \" by \" + recommendation.artist \n",
    "        \n",
    "    for i in range(len(top100.values)): \n",
    "        if (song not in top100.values[i][0]) & (artist not in top100.values[i][1]):\n",
    "            return \"Sorry, no recommendations available\""
   ]
  },
  {
   "cell_type": "code",
   "execution_count": 16,
   "id": "d1a98571",
   "metadata": {},
   "outputs": [
    {
     "name": "stdout",
     "output_type": "stream",
     "text": [
      "Enter song name: Calm Down\n",
      "Enter artist name: Rema\n"
     ]
    },
    {
     "data": {
      "text/plain": [
       "\"We recommend: Boy's a liar, Pt. 2 by PinkPantheress & Ice Spice\""
      ]
     },
     "execution_count": 16,
     "metadata": {},
     "output_type": "execute_result"
    }
   ],
   "source": [
    "songrecommender()"
   ]
  },
  {
   "cell_type": "code",
   "execution_count": 17,
   "id": "dc668165",
   "metadata": {},
   "outputs": [
    {
     "name": "stdout",
     "output_type": "stream",
     "text": [
      "Enter song name: seye\n",
      "Enter artist name: sij\n"
     ]
    },
    {
     "data": {
      "text/plain": [
       "'Sorry, no recommendations available'"
      ]
     },
     "execution_count": 17,
     "metadata": {},
     "output_type": "execute_result"
    }
   ],
   "source": [
    "songrecommender()"
   ]
  }
 ],
 "metadata": {
  "kernelspec": {
   "display_name": "Python 3 (ipykernel)",
   "language": "python",
   "name": "python3"
  },
  "language_info": {
   "codemirror_mode": {
    "name": "ipython",
    "version": 3
   },
   "file_extension": ".py",
   "mimetype": "text/x-python",
   "name": "python",
   "nbconvert_exporter": "python",
   "pygments_lexer": "ipython3",
   "version": "3.9.13"
  }
 },
 "nbformat": 4,
 "nbformat_minor": 5
}

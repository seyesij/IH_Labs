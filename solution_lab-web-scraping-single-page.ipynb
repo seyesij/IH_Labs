{
 "cells": [
  {
   "cell_type": "code",
   "execution_count": 1,
   "id": "84c10166",
   "metadata": {},
   "outputs": [],
   "source": [
    "import requests\n",
    "import pandas as pd \n",
    "from bs4 import BeautifulSoup"
   ]
  },
  {
   "cell_type": "code",
   "execution_count": 2,
   "id": "4ca67697",
   "metadata": {},
   "outputs": [],
   "source": [
    "url = \"https://www.popvortex.com/music/charts/top-100-songs.php\""
   ]
  },
  {
   "cell_type": "code",
   "execution_count": 3,
   "id": "9c893803",
   "metadata": {},
   "outputs": [
    {
     "data": {
      "text/plain": [
       "200"
      ]
     },
     "execution_count": 3,
     "metadata": {},
     "output_type": "execute_result"
    }
   ],
   "source": [
    "#download html with a get request\n",
    "\n",
    "response = requests.get(url)\n",
    "response.status_code"
   ]
  },
  {
   "cell_type": "code",
   "execution_count": 4,
   "id": "51d173f1",
   "metadata": {},
   "outputs": [],
   "source": [
    "# parse html (create the 'soup')\n",
    "soup = BeautifulSoup(response.content, \"html.parser\")"
   ]
  },
  {
   "cell_type": "code",
   "execution_count": 5,
   "id": "062853ba",
   "metadata": {},
   "outputs": [],
   "source": [
    "# check that the html code looks like it should\n",
    "#soup"
   ]
  },
  {
   "cell_type": "code",
   "execution_count": 6,
   "id": "da036f48",
   "metadata": {},
   "outputs": [
    {
     "data": {
      "text/plain": [
       "[<p class=\"title-artist\"><cite class=\"title\">Flowers</cite><em class=\"artist\">Miley Cyrus</em></p>]"
      ]
     },
     "execution_count": 6,
     "metadata": {},
     "output_type": "execute_result"
    }
   ],
   "source": [
    "soup.select(\"#chart-position-1 > div.chart-content.col-xs-12.col-sm-8 > p\")"
   ]
  },
  {
   "cell_type": "code",
   "execution_count": 7,
   "id": "e400fad8",
   "metadata": {},
   "outputs": [
    {
     "data": {
      "text/plain": [
       "'Flowers'"
      ]
     },
     "execution_count": 7,
     "metadata": {},
     "output_type": "execute_result"
    }
   ],
   "source": [
    "# soup.select(\"#chart-position-1 > div.chart-content.col-xs-12.col-sm-8 > p > cite\")[0].get_text()\n",
    "\n",
    "soup.select(\"div.chart-content.col-xs-12.col-sm-8 > p > cite\")[0].get_text()\n"
   ]
  },
  {
   "cell_type": "code",
   "execution_count": 8,
   "id": "33b575b5",
   "metadata": {},
   "outputs": [
    {
     "data": {
      "text/plain": [
       "'Miley Cyrus'"
      ]
     },
     "execution_count": 8,
     "metadata": {},
     "output_type": "execute_result"
    }
   ],
   "source": [
    "soup.select(\"div.chart-content.col-xs-12.col-sm-8 > p > em\")[0].get_text()\n"
   ]
  },
  {
   "cell_type": "code",
   "execution_count": 9,
   "id": "fd0cf233",
   "metadata": {},
   "outputs": [
    {
     "name": "stdout",
     "output_type": "stream",
     "text": [
      "['Flowers', 'Last Night', 'Like Crazy (Deep House Remix)', 'Fast Car', 'Like Crazy (UK Garage Remix)', 'Like Crazy (Instrumental)', 'Like Crazy (English Version)', 'Like Crazy', 'Calm Down', 'Justice for All', 'Heart Like A Truck', 'Eyes Closed', 'Fighting Myself', \"Growin' Up and Gettin' Old\", 'You Say', 'Thinkin’ Bout Me', '5 Leaf Clover', 'Love You Anyway', 'Thought You Should Know', 'Anti-Hero', 'Players', 'labour', 'Thank God', 'More Than Able (feat. Chandler Moore & Tiffany Hudson)', \"God's Country\", 'This Is Our God', 'End of the World', 'Rock and a Hard Place', 'Thank God I Do', 'Face-off', 'wait in the truck', 'Unstoppable', 'Rescue', 'Alone', \"I Ain't Worried\", 'Favorite Song', 'All Of The Girls You Loved Before', 'Set Me Free, Pt. 2', 'You Proof', 'Eyes Closed', 'BESO', 'In Jesus Name (God Of Possible)', 'NEED A FAVOR', 'Interlude : Dive', \"Something in the Orange (Z&E's Version)\", 'Kill Bill', 'TRUSTFALL', 'As It Was', 'Look At Us Now (Honeycomb)', 'Wasted On You', 'Heart Attack (Rock Version)', 'Gratitude', \"Chasin' You\", 'Made You Look', 'Sure Thing', 'You Raise Me Up', 'Lift Me Up (From Black Panther: Wakanda Forever - Music From and Inspired By)', 'Lost', 'Tennessee Whiskey', 'Hold My Hand', 'TQG', 'Son Of A Sinner', 'Mother', 'ICU', 'Unholy', 'One Thing At A Time', \"What He Didn't Do\", 'Dancin’ In The Country', 'Handle On You', 'God Is In This Story', 'I Would Die for You', 'Ghosts Again', 'Lavender Haze', \"Boy's a liar, Pt. 2\", 'Let Me Down Easy', 'golden hour', 'Escapism.', 'Going, Going, Gone', 'I Wrote The Book', 'Calm Down', 'God Gave Me You', 'Everywhere', 'Tennessee Orange', 'Where the Wild Things Are', 'Hold On To Me', 'Die For You (Remix)', 'Human', 'Change the World', 'Bright Eyes', 'Bloody Mary', '10:35', \"Creepin'\", 'Head Above Water', 'Just Pretend', 'Cowgirls (feat. ERNEST)', 'Trump Won', 'Forever and Ever, Amen', 'Whiskey Glasses', \"I'm Good (Blue)\", \"If Anything's Left\"]\n",
      "['Miley Cyrus', 'Morgan Wallen', 'Jimin', 'Luke Combs', 'Jimin', 'Jimin', 'Jimin', 'Jimin', 'Rema & Selena Gomez', 'Donald J. Trump & J6 Prison Choir', 'Lainey Wilson', 'Ed Sheeran', 'LINKIN PARK', 'Luke Combs', 'Lauren Daigle', 'Morgan Wallen', 'Luke Combs', 'Luke Combs', 'Morgan Wallen', 'Taylor Swift', 'Coi Leray', 'Paris Paloma', 'Kane Brown & Katelyn Brown', 'Elevation Worship', 'Blake Shelton', 'Phil Wickham', 'Tom MacDonald & John Rich', 'Bailey Zimmerman', 'Lauren Daigle', 'Jimin', 'HARDY & Lainey Wilson', 'Sia', 'Lauren Daigle', 'Jimin', 'OneRepublic', 'Toosii', 'Taylor Swift', 'Jimin', 'Morgan Wallen', 'Ed Sheeran', 'ROSALÍA & Rauw Alejandro', 'Katy Nichole', 'Jelly Roll', 'Jimin', 'Zach Bryan', 'SZA', 'P!nk', 'Harry Styles', 'Daisy Jones & The Six', 'Morgan Wallen', 'Demi Lovato', 'Brandon Lake', 'Morgan Wallen', 'Meghan Trainor', 'Miguel', 'Josh Groban', 'Rihanna', 'LINKIN PARK', 'Chris Stapleton', 'Lady Gaga', 'KAROL G & Shakira', 'Jelly Roll', 'Meghan Trainor', 'Coco Jones', 'Sam Smith & Kim Petras', 'Morgan Wallen', 'Carly Pearce', 'Tyler Hubbard', 'Parker McCollum', 'Katy Nichole & Big Daddy Weave', 'In This Moment', 'Depeche Mode', 'Taylor Swift', 'PinkPantheress & Ice Spice', 'Daisy Jones & The Six', 'JVKE', 'RAYE & 070 Shake', 'Luke Combs', 'Morgan Wallen', 'Rema', 'Blake Shelton', 'Fleetwood Mac', 'Megan Moroney', 'Luke Combs', 'Lauren Daigle', 'The Weeknd & Ariana Grande', 'Cody Johnson', 'Eric Clapton', 'Timcast', 'Lady Gaga', 'Tiësto & Tate McRae', 'Metro Boomin, The Weeknd & 21 Savage', 'Avril Lavigne', 'Bad Omens', 'Morgan Wallen', 'Natasha Owens', 'Randy Travis', 'Morgan Wallen', 'David Guetta & Bebe Rexha', 'Jamie Fine']\n"
     ]
    }
   ],
   "source": [
    "#initialize empty lists\n",
    "title = []\n",
    "artist = []\n",
    "\n",
    "num_iter = len(soup.select(\"div.chart-content.col-xs-12.col-sm-8 > p > cite\"))\n",
    "tlist = soup.select(\"div.chart-content.col-xs-12.col-sm-8 > p > cite\")\n",
    "alist = soup.select(\"div.chart-content.col-xs-12.col-sm-8 > p > em\")\n",
    "\n",
    "# iterate through the result set and retrive all the data\n",
    "for i in range(num_iter):\n",
    "    title.append(tlist[i].get_text())\n",
    "    artist.append(alist[i].get_text())\n",
    "\n",
    "print(title)\n",
    "print(artist)"
   ]
  },
  {
   "cell_type": "code",
   "execution_count": 10,
   "id": "9fa65661",
   "metadata": {},
   "outputs": [],
   "source": [
    "# each list becomes a column\n",
    "top100songs = pd.DataFrame({\"title\":title, \"artist\":artist})"
   ]
  },
  {
   "cell_type": "code",
   "execution_count": 11,
   "id": "3bcc847f",
   "metadata": {},
   "outputs": [
    {
     "data": {
      "text/html": [
       "<div>\n",
       "<style scoped>\n",
       "    .dataframe tbody tr th:only-of-type {\n",
       "        vertical-align: middle;\n",
       "    }\n",
       "\n",
       "    .dataframe tbody tr th {\n",
       "        vertical-align: top;\n",
       "    }\n",
       "\n",
       "    .dataframe thead th {\n",
       "        text-align: right;\n",
       "    }\n",
       "</style>\n",
       "<table border=\"1\" class=\"dataframe\">\n",
       "  <thead>\n",
       "    <tr style=\"text-align: right;\">\n",
       "      <th></th>\n",
       "      <th>title</th>\n",
       "      <th>artist</th>\n",
       "    </tr>\n",
       "  </thead>\n",
       "  <tbody>\n",
       "    <tr>\n",
       "      <th>0</th>\n",
       "      <td>Flowers</td>\n",
       "      <td>Miley Cyrus</td>\n",
       "    </tr>\n",
       "    <tr>\n",
       "      <th>1</th>\n",
       "      <td>Last Night</td>\n",
       "      <td>Morgan Wallen</td>\n",
       "    </tr>\n",
       "    <tr>\n",
       "      <th>2</th>\n",
       "      <td>Like Crazy (Deep House Remix)</td>\n",
       "      <td>Jimin</td>\n",
       "    </tr>\n",
       "    <tr>\n",
       "      <th>3</th>\n",
       "      <td>Fast Car</td>\n",
       "      <td>Luke Combs</td>\n",
       "    </tr>\n",
       "    <tr>\n",
       "      <th>4</th>\n",
       "      <td>Like Crazy (UK Garage Remix)</td>\n",
       "      <td>Jimin</td>\n",
       "    </tr>\n",
       "    <tr>\n",
       "      <th>...</th>\n",
       "      <td>...</td>\n",
       "      <td>...</td>\n",
       "    </tr>\n",
       "    <tr>\n",
       "      <th>95</th>\n",
       "      <td>Trump Won</td>\n",
       "      <td>Natasha Owens</td>\n",
       "    </tr>\n",
       "    <tr>\n",
       "      <th>96</th>\n",
       "      <td>Forever and Ever, Amen</td>\n",
       "      <td>Randy Travis</td>\n",
       "    </tr>\n",
       "    <tr>\n",
       "      <th>97</th>\n",
       "      <td>Whiskey Glasses</td>\n",
       "      <td>Morgan Wallen</td>\n",
       "    </tr>\n",
       "    <tr>\n",
       "      <th>98</th>\n",
       "      <td>I'm Good (Blue)</td>\n",
       "      <td>David Guetta &amp; Bebe Rexha</td>\n",
       "    </tr>\n",
       "    <tr>\n",
       "      <th>99</th>\n",
       "      <td>If Anything's Left</td>\n",
       "      <td>Jamie Fine</td>\n",
       "    </tr>\n",
       "  </tbody>\n",
       "</table>\n",
       "<p>100 rows × 2 columns</p>\n",
       "</div>"
      ],
      "text/plain": [
       "                            title                     artist\n",
       "0                         Flowers                Miley Cyrus\n",
       "1                      Last Night              Morgan Wallen\n",
       "2   Like Crazy (Deep House Remix)                      Jimin\n",
       "3                        Fast Car                 Luke Combs\n",
       "4    Like Crazy (UK Garage Remix)                      Jimin\n",
       "..                            ...                        ...\n",
       "95                      Trump Won              Natasha Owens\n",
       "96         Forever and Ever, Amen               Randy Travis\n",
       "97                Whiskey Glasses              Morgan Wallen\n",
       "98                I'm Good (Blue)  David Guetta & Bebe Rexha\n",
       "99             If Anything's Left                 Jamie Fine\n",
       "\n",
       "[100 rows x 2 columns]"
      ]
     },
     "execution_count": 11,
     "metadata": {},
     "output_type": "execute_result"
    }
   ],
   "source": [
    "top100songs"
   ]
  },
  {
   "cell_type": "code",
   "execution_count": null,
   "id": "e534f7bd",
   "metadata": {},
   "outputs": [],
   "source": []
  }
 ],
 "metadata": {
  "kernelspec": {
   "display_name": "Python 3 (ipykernel)",
   "language": "python",
   "name": "python3"
  },
  "language_info": {
   "codemirror_mode": {
    "name": "ipython",
    "version": 3
   },
   "file_extension": ".py",
   "mimetype": "text/x-python",
   "name": "python",
   "nbconvert_exporter": "python",
   "pygments_lexer": "ipython3",
   "version": "3.9.13"
  }
 },
 "nbformat": 4,
 "nbformat_minor": 5
}

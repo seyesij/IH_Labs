{
 "cells": [
  {
   "cell_type": "markdown",
   "metadata": {},
   "source": [
    "# Challenge 2: Sentiment Analysis\n",
    "\n",
    "In this challenge we will learn sentiment analysis and practice performing sentiment analysis on Twitter tweets. \n",
    "\n",
    "## Introduction\n",
    "\n",
    "Sentiment analysis is to *systematically identify, extract, quantify, and study affective states and subjective information* based on texts ([reference](https://en.wikipedia.org/wiki/Sentiment_analysis)). In simple words, it's to understand whether a person is happy or unhappy in producing the piece of text. Why we (or rather, companies) care about sentiment in texts? It's because by understanding the sentiments in texts, we will be able to know if our customers are happy or unhappy about our products and services. If they are unhappy, the subsequent action is to figure out what have caused the unhappiness and make improvements.\n",
    "\n",
    "Basic sentiment analysis only understands the *positive* or *negative* (sometimes *neutral* too) polarities of the sentiment. More advanced sentiment analysis will also consider dimensions such as agreement, subjectivity, confidence, irony, and so on. In this challenge we will conduct the basic positive vs negative sentiment analysis based on real Twitter tweets.\n",
    "\n",
    "NLTK comes with a [sentiment analysis package](https://www.nltk.org/api/nltk.sentiment.html). This package is great for dummies to perform sentiment analysis because it requires only the textual data to make predictions. For example:\n",
    "\n",
    "```python\n",
    ">>> from nltk.sentiment.vader import SentimentIntensityAnalyzer\n",
    ">>> txt = \"Ironhack is a Global Tech School ranked num 2 worldwide.  ",
    " ",
    "Our mission is to help people transform their careers and join a thriving community of tech professionals that love what they do.\"\n",
    ">>> analyzer = SentimentIntensityAnalyzer()\n",
    ">>> analyzer.polarity_scores(txt)\n",
    "{'neg': 0.0, 'neu': 0.741, 'pos': 0.259, 'compound': 0.8442}\n",
    "```\n",
    "\n",
    "In this challenge, however, you will not use NLTK's sentiment analysis package because in your Machine Learning training in the past 2 weeks you have learned how to make predictions more accurate than that. The [tweets data](https://www.kaggle.com/kazanova/sentiment140) we will be using today are already coded for the positive/negative sentiment. You will be able to use the Naïve Bayes classifier you learned in the lesson to predict the sentiment of tweets based on the labels."
   ]
  },
  {
   "cell_type": "markdown",
   "metadata": {},
   "source": [
    "## Conducting Sentiment Analysis\n",
    "\n",
    "### Loading and Exploring Data\n",
    "\n",
    "The dataset we'll be using today is located on Kaggle (https://www.kaggle.com/kazanova/sentiment140). Once you have downloaded and imported the dataset, it you will need to define the columns names: df.columns = ['target','id','date','flag','user','text']\n",
    "\n",
    "*Notes:* \n",
    "\n",
    "* The dataset is huuuuge (1.6m tweets). When you develop your data analysis codes, you can sample a subset of the data (e.g. 20k records) so that you will save a lot of time when you test your codes."
   ]
  },
  {
   "cell_type": "code",
   "execution_count": 1,
   "metadata": {},
   "outputs": [],
   "source": [
    "import pandas as pd\n",
    "import numpy as np\n",
    "import matplotlib.pyplot as plt\n",
    "import seaborn as sns \n",
    "#pd.set_option('display.max_columns', None)\n",
    "import re\n",
    "from nltk.tokenize import word_tokenize\n",
    "from nltk.stem import PorterStemmer\n",
    "from nltk.stem import WordNetLemmatizer \n",
    "from nltk.corpus import wordnet\n",
    "from nltk.corpus import stopwords\n",
    "from nltk.probability import FreqDist\n",
    "import nltk\n",
    "from sklearn.feature_extraction.text import CountVectorizer"
   ]
  },
  {
   "cell_type": "code",
   "execution_count": 2,
   "metadata": {},
   "outputs": [],
   "source": [
    "columns = ['target','id','date','flag','user','text']\n",
    "data = pd.read_csv('training.1600000.processed.noemoticon.csv', \n",
    "                   header=None, names=columns, encoding='ISO-8859-1', \n",
    "                   index_col=False)"
   ]
  },
  {
   "cell_type": "code",
   "execution_count": 3,
   "metadata": {},
   "outputs": [
    {
     "data": {
      "text/html": [
       "<div>\n",
       "<style scoped>\n",
       "    .dataframe tbody tr th:only-of-type {\n",
       "        vertical-align: middle;\n",
       "    }\n",
       "\n",
       "    .dataframe tbody tr th {\n",
       "        vertical-align: top;\n",
       "    }\n",
       "\n",
       "    .dataframe thead th {\n",
       "        text-align: right;\n",
       "    }\n",
       "</style>\n",
       "<table border=\"1\" class=\"dataframe\">\n",
       "  <thead>\n",
       "    <tr style=\"text-align: right;\">\n",
       "      <th></th>\n",
       "      <th>target</th>\n",
       "      <th>id</th>\n",
       "      <th>date</th>\n",
       "      <th>flag</th>\n",
       "      <th>user</th>\n",
       "      <th>text</th>\n",
       "    </tr>\n",
       "  </thead>\n",
       "  <tbody>\n",
       "    <tr>\n",
       "      <th>0</th>\n",
       "      <td>0</td>\n",
       "      <td>1467810369</td>\n",
       "      <td>Mon Apr 06 22:19:45 PDT 2009</td>\n",
       "      <td>NO_QUERY</td>\n",
       "      <td>_TheSpecialOne_</td>\n",
       "      <td>@switchfoot http://twitpic.com/2y1zl - Awww, t...</td>\n",
       "    </tr>\n",
       "    <tr>\n",
       "      <th>1</th>\n",
       "      <td>0</td>\n",
       "      <td>1467810672</td>\n",
       "      <td>Mon Apr 06 22:19:49 PDT 2009</td>\n",
       "      <td>NO_QUERY</td>\n",
       "      <td>scotthamilton</td>\n",
       "      <td>is upset that he can't update his Facebook by ...</td>\n",
       "    </tr>\n",
       "    <tr>\n",
       "      <th>2</th>\n",
       "      <td>0</td>\n",
       "      <td>1467810917</td>\n",
       "      <td>Mon Apr 06 22:19:53 PDT 2009</td>\n",
       "      <td>NO_QUERY</td>\n",
       "      <td>mattycus</td>\n",
       "      <td>@Kenichan I dived many times for the ball. Man...</td>\n",
       "    </tr>\n",
       "    <tr>\n",
       "      <th>3</th>\n",
       "      <td>0</td>\n",
       "      <td>1467811184</td>\n",
       "      <td>Mon Apr 06 22:19:57 PDT 2009</td>\n",
       "      <td>NO_QUERY</td>\n",
       "      <td>ElleCTF</td>\n",
       "      <td>my whole body feels itchy and like its on fire</td>\n",
       "    </tr>\n",
       "    <tr>\n",
       "      <th>4</th>\n",
       "      <td>0</td>\n",
       "      <td>1467811193</td>\n",
       "      <td>Mon Apr 06 22:19:57 PDT 2009</td>\n",
       "      <td>NO_QUERY</td>\n",
       "      <td>Karoli</td>\n",
       "      <td>@nationwideclass no, it's not behaving at all....</td>\n",
       "    </tr>\n",
       "  </tbody>\n",
       "</table>\n",
       "</div>"
      ],
      "text/plain": [
       "   target          id                          date      flag  \\\n",
       "0       0  1467810369  Mon Apr 06 22:19:45 PDT 2009  NO_QUERY   \n",
       "1       0  1467810672  Mon Apr 06 22:19:49 PDT 2009  NO_QUERY   \n",
       "2       0  1467810917  Mon Apr 06 22:19:53 PDT 2009  NO_QUERY   \n",
       "3       0  1467811184  Mon Apr 06 22:19:57 PDT 2009  NO_QUERY   \n",
       "4       0  1467811193  Mon Apr 06 22:19:57 PDT 2009  NO_QUERY   \n",
       "\n",
       "              user                                               text  \n",
       "0  _TheSpecialOne_  @switchfoot http://twitpic.com/2y1zl - Awww, t...  \n",
       "1    scotthamilton  is upset that he can't update his Facebook by ...  \n",
       "2         mattycus  @Kenichan I dived many times for the ball. Man...  \n",
       "3          ElleCTF    my whole body feels itchy and like its on fire   \n",
       "4           Karoli  @nationwideclass no, it's not behaving at all....  "
      ]
     },
     "execution_count": 3,
     "metadata": {},
     "output_type": "execute_result"
    }
   ],
   "source": [
    "data.head()"
   ]
  },
  {
   "cell_type": "code",
   "execution_count": 4,
   "metadata": {},
   "outputs": [],
   "source": [
    "# Extracting a sample of 10000\n",
    "subset = data.sample(10000).copy()"
   ]
  },
  {
   "cell_type": "code",
   "execution_count": 5,
   "metadata": {},
   "outputs": [
    {
     "data": {
      "text/html": [
       "<div>\n",
       "<style scoped>\n",
       "    .dataframe tbody tr th:only-of-type {\n",
       "        vertical-align: middle;\n",
       "    }\n",
       "\n",
       "    .dataframe tbody tr th {\n",
       "        vertical-align: top;\n",
       "    }\n",
       "\n",
       "    .dataframe thead th {\n",
       "        text-align: right;\n",
       "    }\n",
       "</style>\n",
       "<table border=\"1\" class=\"dataframe\">\n",
       "  <thead>\n",
       "    <tr style=\"text-align: right;\">\n",
       "      <th></th>\n",
       "      <th>target</th>\n",
       "      <th>id</th>\n",
       "      <th>date</th>\n",
       "      <th>flag</th>\n",
       "      <th>user</th>\n",
       "      <th>text</th>\n",
       "    </tr>\n",
       "  </thead>\n",
       "  <tbody>\n",
       "    <tr>\n",
       "      <th>41191</th>\n",
       "      <td>0</td>\n",
       "      <td>1573986704</td>\n",
       "      <td>Tue Apr 21 03:46:37 PDT 2009</td>\n",
       "      <td>NO_QUERY</td>\n",
       "      <td>daisygrl2277</td>\n",
       "      <td>off to school  Damn marlins what the heck happ...</td>\n",
       "    </tr>\n",
       "    <tr>\n",
       "      <th>845897</th>\n",
       "      <td>4</td>\n",
       "      <td>1564299956</td>\n",
       "      <td>Mon Apr 20 02:48:25 PDT 2009</td>\n",
       "      <td>NO_QUERY</td>\n",
       "      <td>Ruxxx</td>\n",
       "      <td>I'm new here! So I just want to say HY!  Have ...</td>\n",
       "    </tr>\n",
       "    <tr>\n",
       "      <th>54154</th>\n",
       "      <td>0</td>\n",
       "      <td>1680948524</td>\n",
       "      <td>Sat May 02 12:52:00 PDT 2009</td>\n",
       "      <td>NO_QUERY</td>\n",
       "      <td>gomer43</td>\n",
       "      <td>@Car1ssa but I'll get fiiiiiiired.</td>\n",
       "    </tr>\n",
       "    <tr>\n",
       "      <th>1251225</th>\n",
       "      <td>4</td>\n",
       "      <td>1996459978</td>\n",
       "      <td>Mon Jun 01 15:07:14 PDT 2009</td>\n",
       "      <td>NO_QUERY</td>\n",
       "      <td>magicswebpage</td>\n",
       "      <td>shower was great but now out of bars of soap s...</td>\n",
       "    </tr>\n",
       "    <tr>\n",
       "      <th>1275191</th>\n",
       "      <td>4</td>\n",
       "      <td>2001055928</td>\n",
       "      <td>Mon Jun 01 23:42:48 PDT 2009</td>\n",
       "      <td>NO_QUERY</td>\n",
       "      <td>niinio</td>\n",
       "      <td>is getting used to the 4-days-work-3-days-off-...</td>\n",
       "    </tr>\n",
       "  </tbody>\n",
       "</table>\n",
       "</div>"
      ],
      "text/plain": [
       "         target          id                          date      flag  \\\n",
       "41191         0  1573986704  Tue Apr 21 03:46:37 PDT 2009  NO_QUERY   \n",
       "845897        4  1564299956  Mon Apr 20 02:48:25 PDT 2009  NO_QUERY   \n",
       "54154         0  1680948524  Sat May 02 12:52:00 PDT 2009  NO_QUERY   \n",
       "1251225       4  1996459978  Mon Jun 01 15:07:14 PDT 2009  NO_QUERY   \n",
       "1275191       4  2001055928  Mon Jun 01 23:42:48 PDT 2009  NO_QUERY   \n",
       "\n",
       "                  user                                               text  \n",
       "41191     daisygrl2277  off to school  Damn marlins what the heck happ...  \n",
       "845897           Ruxxx  I'm new here! So I just want to say HY!  Have ...  \n",
       "54154          gomer43                @Car1ssa but I'll get fiiiiiiired.   \n",
       "1251225  magicswebpage  shower was great but now out of bars of soap s...  \n",
       "1275191         niinio  is getting used to the 4-days-work-3-days-off-...  "
      ]
     },
     "metadata": {},
     "output_type": "display_data"
    },
    {
     "data": {
      "text/plain": [
       "(10000, 6)"
      ]
     },
     "metadata": {},
     "output_type": "display_data"
    }
   ],
   "source": [
    "display(subset.head(),subset.shape)"
   ]
  },
  {
   "cell_type": "markdown",
   "metadata": {},
   "source": [
    "### Prepare Textual Data for Sentiment Analysis\n",
    "\n",
    "Now, apply the functions you have written in Challenge 1 to your whole data set. These functions include:\n",
    "\n",
    "* `clean_up()`\n",
    "\n",
    "* `tokenize()`\n",
    "\n",
    "* `stem_and_lemmatize()`\n",
    "\n",
    "* `remove_stopwords()`\n",
    "\n",
    "Create a new column called `text_processed` in the dataframe to contain the processed data. At the end, your `text_processed` column should contain lists of word tokens that are cleaned up. Your data should look like below:\n",
    "\n",
    "![Processed Data](data-cleaning-results.png)"
   ]
  },
  {
   "cell_type": "code",
   "execution_count": 6,
   "metadata": {},
   "outputs": [],
   "source": [
    "def clean_up(s):\n",
    "    S = str(s)\n",
    "    S = re.sub(r\"http\\S+\", \"\", s)\n",
    "    S = re.sub(r\"[^a-zA-Z]+\", \" \", S).strip().lower()\n",
    "    return S\n",
    "\n",
    "def tokenize(s):\n",
    "    S = str(s)\n",
    "    return word_tokenize(S)\n",
    "\n",
    "def stem_and_lemmatize(l):\n",
    "    ps = PorterStemmer()\n",
    "    stemmed = [ps.stem(w) for w in l]\n",
    "    \n",
    "    lm = WordNetLemmatizer() \n",
    "    stemlem = [lm.lemmatize(w) for w in stemmed]\n",
    "    \n",
    "    return stemlem\n",
    "\n",
    "def remove_stopwords(l):\n",
    "    without_sw = [word for word in l if not word in stopwords.words('english')]\n",
    "    return without_sw"
   ]
  },
  {
   "cell_type": "code",
   "execution_count": 7,
   "metadata": {},
   "outputs": [],
   "source": [
    "subset['clean_up'] = subset['text'].apply(clean_up)\n",
    "subset['tokenize'] = subset['clean_up'].apply(tokenize)\n",
    "subset['stem_and_lemmatize'] = subset['tokenize'].apply(stem_and_lemmatize)\n",
    "subset['text_processed'] = subset['stem_and_lemmatize'].apply(remove_stopwords)"
   ]
  },
  {
   "cell_type": "code",
   "execution_count": 8,
   "metadata": {},
   "outputs": [],
   "source": [
    "subset = subset.drop(['clean_up', 'tokenize', 'stem_and_lemmatize'], axis=1) "
   ]
  },
  {
   "cell_type": "code",
   "execution_count": 9,
   "metadata": {},
   "outputs": [
    {
     "data": {
      "text/html": [
       "<div>\n",
       "<style scoped>\n",
       "    .dataframe tbody tr th:only-of-type {\n",
       "        vertical-align: middle;\n",
       "    }\n",
       "\n",
       "    .dataframe tbody tr th {\n",
       "        vertical-align: top;\n",
       "    }\n",
       "\n",
       "    .dataframe thead th {\n",
       "        text-align: right;\n",
       "    }\n",
       "</style>\n",
       "<table border=\"1\" class=\"dataframe\">\n",
       "  <thead>\n",
       "    <tr style=\"text-align: right;\">\n",
       "      <th></th>\n",
       "      <th>target</th>\n",
       "      <th>id</th>\n",
       "      <th>date</th>\n",
       "      <th>flag</th>\n",
       "      <th>user</th>\n",
       "      <th>text</th>\n",
       "      <th>text_processed</th>\n",
       "    </tr>\n",
       "  </thead>\n",
       "  <tbody>\n",
       "    <tr>\n",
       "      <th>41191</th>\n",
       "      <td>0</td>\n",
       "      <td>1573986704</td>\n",
       "      <td>Tue Apr 21 03:46:37 PDT 2009</td>\n",
       "      <td>NO_QUERY</td>\n",
       "      <td>daisygrl2277</td>\n",
       "      <td>off to school  Damn marlins what the heck happ...</td>\n",
       "      <td>[school, damn, marlin, heck, happen, last, night]</td>\n",
       "    </tr>\n",
       "    <tr>\n",
       "      <th>845897</th>\n",
       "      <td>4</td>\n",
       "      <td>1564299956</td>\n",
       "      <td>Mon Apr 20 02:48:25 PDT 2009</td>\n",
       "      <td>NO_QUERY</td>\n",
       "      <td>Ruxxx</td>\n",
       "      <td>I'm new here! So I just want to say HY!  Have ...</td>\n",
       "      <td>[new, want, say, hy, nice, day, guy, xoxo]</td>\n",
       "    </tr>\n",
       "    <tr>\n",
       "      <th>54154</th>\n",
       "      <td>0</td>\n",
       "      <td>1680948524</td>\n",
       "      <td>Sat May 02 12:52:00 PDT 2009</td>\n",
       "      <td>NO_QUERY</td>\n",
       "      <td>gomer43</td>\n",
       "      <td>@Car1ssa but I'll get fiiiiiiired.</td>\n",
       "      <td>[car, ssa, get, fiiiiiiir]</td>\n",
       "    </tr>\n",
       "    <tr>\n",
       "      <th>1251225</th>\n",
       "      <td>4</td>\n",
       "      <td>1996459978</td>\n",
       "      <td>Mon Jun 01 15:07:14 PDT 2009</td>\n",
       "      <td>NO_QUERY</td>\n",
       "      <td>magicswebpage</td>\n",
       "      <td>shower was great but now out of bars of soap s...</td>\n",
       "      <td>[shower, wa, great, bar, soap, sorri, guy, wa,...</td>\n",
       "    </tr>\n",
       "    <tr>\n",
       "      <th>1275191</th>\n",
       "      <td>4</td>\n",
       "      <td>2001055928</td>\n",
       "      <td>Mon Jun 01 23:42:48 PDT 2009</td>\n",
       "      <td>NO_QUERY</td>\n",
       "      <td>niinio</td>\n",
       "      <td>is getting used to the 4-days-work-3-days-off-...</td>\n",
       "      <td>[get, use, day, work, day, rhythm, feel, right]</td>\n",
       "    </tr>\n",
       "  </tbody>\n",
       "</table>\n",
       "</div>"
      ],
      "text/plain": [
       "         target          id                          date      flag  \\\n",
       "41191         0  1573986704  Tue Apr 21 03:46:37 PDT 2009  NO_QUERY   \n",
       "845897        4  1564299956  Mon Apr 20 02:48:25 PDT 2009  NO_QUERY   \n",
       "54154         0  1680948524  Sat May 02 12:52:00 PDT 2009  NO_QUERY   \n",
       "1251225       4  1996459978  Mon Jun 01 15:07:14 PDT 2009  NO_QUERY   \n",
       "1275191       4  2001055928  Mon Jun 01 23:42:48 PDT 2009  NO_QUERY   \n",
       "\n",
       "                  user                                               text  \\\n",
       "41191     daisygrl2277  off to school  Damn marlins what the heck happ...   \n",
       "845897           Ruxxx  I'm new here! So I just want to say HY!  Have ...   \n",
       "54154          gomer43                @Car1ssa but I'll get fiiiiiiired.    \n",
       "1251225  magicswebpage  shower was great but now out of bars of soap s...   \n",
       "1275191         niinio  is getting used to the 4-days-work-3-days-off-...   \n",
       "\n",
       "                                            text_processed  \n",
       "41191    [school, damn, marlin, heck, happen, last, night]  \n",
       "845897          [new, want, say, hy, nice, day, guy, xoxo]  \n",
       "54154                           [car, ssa, get, fiiiiiiir]  \n",
       "1251225  [shower, wa, great, bar, soap, sorri, guy, wa,...  \n",
       "1275191    [get, use, day, work, day, rhythm, feel, right]  "
      ]
     },
     "execution_count": 9,
     "metadata": {},
     "output_type": "execute_result"
    }
   ],
   "source": [
    "subset.head(5)"
   ]
  },
  {
   "cell_type": "markdown",
   "metadata": {},
   "source": [
    "### Creating Bag of Words\n",
    "\n",
    "The purpose of this step is to create a [bag of words](https://en.wikipedia.org/wiki/Bag-of-words_model) from the processed data. The bag of words contains all the unique words in your whole text body (a.k.a. *corpus*) with the number of occurrence of each word. It will allow you to understand which words are the most important features across the whole corpus.\n",
    "\n",
    "Also, you can imagine you will have a massive set of words. The less important words (i.e. those of very low number of occurrence) do not contribute much to the sentiment. Therefore, you only need to use the most important words to build your feature set in the next step. In our case, we will use the top 5,000 words with the highest frequency to build the features.\n",
    "\n",
    "In the cell below, combine all the words in `text_processed` and calculate the frequency distribution of all words. A convenient library to calculate the term frequency distribution is NLTK's `FreqDist` class ([documentation](https://www.nltk.org/api/nltk.html#module-nltk.probability)). Then select the top 5,000 words from the frequency distribution."
   ]
  },
  {
   "cell_type": "code",
   "execution_count": 10,
   "metadata": {},
   "outputs": [],
   "source": [
    "# Put all this cleaning together\n",
    "\n",
    "def re_blob(row):\n",
    "    return \" \".join(row['text_processed'])\n",
    "\n",
    "subset['clean_blob'] = subset.apply(re_blob,axis=1)"
   ]
  },
  {
   "cell_type": "code",
   "execution_count": 11,
   "metadata": {},
   "outputs": [
    {
     "data": {
      "text/html": [
       "<div>\n",
       "<style scoped>\n",
       "    .dataframe tbody tr th:only-of-type {\n",
       "        vertical-align: middle;\n",
       "    }\n",
       "\n",
       "    .dataframe tbody tr th {\n",
       "        vertical-align: top;\n",
       "    }\n",
       "\n",
       "    .dataframe thead th {\n",
       "        text-align: right;\n",
       "    }\n",
       "</style>\n",
       "<table border=\"1\" class=\"dataframe\">\n",
       "  <thead>\n",
       "    <tr style=\"text-align: right;\">\n",
       "      <th></th>\n",
       "      <th>target</th>\n",
       "      <th>id</th>\n",
       "      <th>date</th>\n",
       "      <th>flag</th>\n",
       "      <th>user</th>\n",
       "      <th>text</th>\n",
       "      <th>text_processed</th>\n",
       "      <th>clean_blob</th>\n",
       "    </tr>\n",
       "  </thead>\n",
       "  <tbody>\n",
       "    <tr>\n",
       "      <th>41191</th>\n",
       "      <td>0</td>\n",
       "      <td>1573986704</td>\n",
       "      <td>Tue Apr 21 03:46:37 PDT 2009</td>\n",
       "      <td>NO_QUERY</td>\n",
       "      <td>daisygrl2277</td>\n",
       "      <td>off to school  Damn marlins what the heck happ...</td>\n",
       "      <td>[school, damn, marlin, heck, happen, last, night]</td>\n",
       "      <td>school damn marlin heck happen last night</td>\n",
       "    </tr>\n",
       "    <tr>\n",
       "      <th>845897</th>\n",
       "      <td>4</td>\n",
       "      <td>1564299956</td>\n",
       "      <td>Mon Apr 20 02:48:25 PDT 2009</td>\n",
       "      <td>NO_QUERY</td>\n",
       "      <td>Ruxxx</td>\n",
       "      <td>I'm new here! So I just want to say HY!  Have ...</td>\n",
       "      <td>[new, want, say, hy, nice, day, guy, xoxo]</td>\n",
       "      <td>new want say hy nice day guy xoxo</td>\n",
       "    </tr>\n",
       "    <tr>\n",
       "      <th>54154</th>\n",
       "      <td>0</td>\n",
       "      <td>1680948524</td>\n",
       "      <td>Sat May 02 12:52:00 PDT 2009</td>\n",
       "      <td>NO_QUERY</td>\n",
       "      <td>gomer43</td>\n",
       "      <td>@Car1ssa but I'll get fiiiiiiired.</td>\n",
       "      <td>[car, ssa, get, fiiiiiiir]</td>\n",
       "      <td>car ssa get fiiiiiiir</td>\n",
       "    </tr>\n",
       "    <tr>\n",
       "      <th>1251225</th>\n",
       "      <td>4</td>\n",
       "      <td>1996459978</td>\n",
       "      <td>Mon Jun 01 15:07:14 PDT 2009</td>\n",
       "      <td>NO_QUERY</td>\n",
       "      <td>magicswebpage</td>\n",
       "      <td>shower was great but now out of bars of soap s...</td>\n",
       "      <td>[shower, wa, great, bar, soap, sorri, guy, wa,...</td>\n",
       "      <td>shower wa great bar soap sorri guy wa befor to...</td>\n",
       "    </tr>\n",
       "    <tr>\n",
       "      <th>1275191</th>\n",
       "      <td>4</td>\n",
       "      <td>2001055928</td>\n",
       "      <td>Mon Jun 01 23:42:48 PDT 2009</td>\n",
       "      <td>NO_QUERY</td>\n",
       "      <td>niinio</td>\n",
       "      <td>is getting used to the 4-days-work-3-days-off-...</td>\n",
       "      <td>[get, use, day, work, day, rhythm, feel, right]</td>\n",
       "      <td>get use day work day rhythm feel right</td>\n",
       "    </tr>\n",
       "  </tbody>\n",
       "</table>\n",
       "</div>"
      ],
      "text/plain": [
       "         target          id                          date      flag  \\\n",
       "41191         0  1573986704  Tue Apr 21 03:46:37 PDT 2009  NO_QUERY   \n",
       "845897        4  1564299956  Mon Apr 20 02:48:25 PDT 2009  NO_QUERY   \n",
       "54154         0  1680948524  Sat May 02 12:52:00 PDT 2009  NO_QUERY   \n",
       "1251225       4  1996459978  Mon Jun 01 15:07:14 PDT 2009  NO_QUERY   \n",
       "1275191       4  2001055928  Mon Jun 01 23:42:48 PDT 2009  NO_QUERY   \n",
       "\n",
       "                  user                                               text  \\\n",
       "41191     daisygrl2277  off to school  Damn marlins what the heck happ...   \n",
       "845897           Ruxxx  I'm new here! So I just want to say HY!  Have ...   \n",
       "54154          gomer43                @Car1ssa but I'll get fiiiiiiired.    \n",
       "1251225  magicswebpage  shower was great but now out of bars of soap s...   \n",
       "1275191         niinio  is getting used to the 4-days-work-3-days-off-...   \n",
       "\n",
       "                                            text_processed  \\\n",
       "41191    [school, damn, marlin, heck, happen, last, night]   \n",
       "845897          [new, want, say, hy, nice, day, guy, xoxo]   \n",
       "54154                           [car, ssa, get, fiiiiiiir]   \n",
       "1251225  [shower, wa, great, bar, soap, sorri, guy, wa,...   \n",
       "1275191    [get, use, day, work, day, rhythm, feel, right]   \n",
       "\n",
       "                                                clean_blob  \n",
       "41191            school damn marlin heck happen last night  \n",
       "845897                   new want say hy nice day guy xoxo  \n",
       "54154                                car ssa get fiiiiiiir  \n",
       "1251225  shower wa great bar soap sorri guy wa befor to...  \n",
       "1275191             get use day work day rhythm feel right  "
      ]
     },
     "execution_count": 11,
     "metadata": {},
     "output_type": "execute_result"
    }
   ],
   "source": [
    "subset.head(5)"
   ]
  },
  {
   "cell_type": "code",
   "execution_count": 12,
   "metadata": {},
   "outputs": [
    {
     "data": {
      "text/plain": [
       "10000"
      ]
     },
     "execution_count": 12,
     "metadata": {},
     "output_type": "execute_result"
    }
   ],
   "source": [
    "# Merge lists in clean_blob\n",
    "\n",
    "merged_list = subset['clean_blob'].tolist()\n",
    "len(merged_list)"
   ]
  },
  {
   "cell_type": "code",
   "execution_count": 13,
   "metadata": {},
   "outputs": [],
   "source": [
    "# Create one list of all words\n",
    "\n",
    "split_list = []\n",
    "all_words = []\n",
    "\n",
    "for words in merged_list:\n",
    "    splitwordslist = words.split()\n",
    "    split_list.append(splitwordslist)\n",
    "    \n",
    "for lists in split_list:\n",
    "    for word in lists:\n",
    "        all_words.append(word)"
   ]
  },
  {
   "cell_type": "code",
   "execution_count": 14,
   "metadata": {},
   "outputs": [],
   "source": [
    "# Get frequency distribution of words\n",
    "\n",
    "freq = FreqDist(all_words)"
   ]
  },
  {
   "cell_type": "code",
   "execution_count": 15,
   "metadata": {},
   "outputs": [
    {
     "name": "stdout",
     "output_type": "stream",
     "text": [
      "5000\n"
     ]
    }
   ],
   "source": [
    "# Get top5000 common words \n",
    "\n",
    "topwords = freq.most_common(5000)\n",
    "print(len(topwords))"
   ]
  },
  {
   "cell_type": "code",
   "execution_count": 16,
   "metadata": {},
   "outputs": [],
   "source": [
    "#topwords"
   ]
  },
  {
   "cell_type": "code",
   "execution_count": 17,
   "metadata": {},
   "outputs": [
    {
     "name": "stdout",
     "output_type": "stream",
     "text": [
      "5000\n"
     ]
    }
   ],
   "source": [
    "# Get just words from frequency list\n",
    "\n",
    "top5000 = [words for words,frequency in topwords]\n",
    "print(len(top5000))"
   ]
  },
  {
   "cell_type": "code",
   "execution_count": 18,
   "metadata": {},
   "outputs": [],
   "source": [
    "#top5000"
   ]
  },
  {
   "cell_type": "markdown",
   "metadata": {},
   "source": [
    "### Building Features\n",
    "\n",
    "Now let's build the features. Using the top 5,000 words, create a 2-dimensional matrix to record whether each of those words is contained in each document (tweet). Then you also have an output column to indicate whether the sentiment in each tweet is positive. For example, assuming your bag of words has 5 items (`['one', 'two', 'three', 'four', 'five']`) out of 4 documents (`['A', 'B', 'C', 'D']`), your feature set is essentially:\n",
    "\n",
    "| Doc | one | two | three | four | five | is_positive |\n",
    "|---|---|---|---|---|---|---|\n",
    "| A | True | False | False | True | False | True |\n",
    "| B | False | False | False | True | True | False |\n",
    "| C | False | True | False | False | False | True |\n",
    "| D | True | False | False | False | True | False|\n",
    "\n",
    "However, because the `nltk.NaiveBayesClassifier.train` class we will use in the next step does not work with Pandas dataframe, the structure of your feature set should be converted to the Python list looking like below:\n",
    "\n",
    "```python\n",
    "[\n",
    "\t({\n",
    "\t\t'one': True,\n",
    "\t\t'two': False,\n",
    "\t\t'three': False,\n",
    "\t\t'four': True,\n",
    "\t\t'five': False\n",
    "\t}, True),\n",
    "\t({\n",
    "\t\t'one': False,\n",
    "\t\t'two': False,\n",
    "\t\t'three': False,\n",
    "\t\t'four': True,\n",
    "\t\t'five': True\n",
    "\t}, False),\n",
    "\t({\n",
    "\t\t'one': False,\n",
    "\t\t'two': True,\n",
    "\t\t'three': False,\n",
    "\t\t'four': False,\n",
    "\t\t'five': False\n",
    "\t}, True),\n",
    "\t({\n",
    "\t\t'one': True,\n",
    "\t\t'two': False,\n",
    "\t\t'three': False,\n",
    "\t\t'four': False,\n",
    "\t\t'five': True\n",
    "\t}, False)\n",
    "]\n",
    "```\n",
    "\n",
    "To help you in this step, watch the [following video](https://www.youtube.com/watch?v=-vVskDsHcVc) to learn how to build the feature set with Python and NLTK. The source code in this video can be found [here](https://pythonprogramming.net/words-as-features-nltk-tutorial/)."
   ]
  },
  {
   "cell_type": "markdown",
   "metadata": {},
   "source": [
    "[![Building Features](building-features.jpg)](https://www.youtube.com/watch?v=-vVskDsHcVc)"
   ]
  },
  {
   "cell_type": "code",
   "execution_count": 19,
   "metadata": {},
   "outputs": [],
   "source": [
    "def find_features(doc):\n",
    "    words = set(doc)\n",
    "    features = {}\n",
    "    for w in top5000:\n",
    "        features[w] = (w in words)\n",
    "    return features"
   ]
  },
  {
   "cell_type": "code",
   "execution_count": 20,
   "metadata": {},
   "outputs": [],
   "source": [
    "# Get feature set\n",
    "\n",
    "featuresets = [(find_features(tweet), target) for (tweet, target) in list(zip(subset['text_processed'], subset['target']))]\n"
   ]
  },
  {
   "cell_type": "code",
   "execution_count": 21,
   "metadata": {},
   "outputs": [
    {
     "data": {
      "text/plain": [
       "10000"
      ]
     },
     "execution_count": 21,
     "metadata": {},
     "output_type": "execute_result"
    }
   ],
   "source": [
    "len(featuresets)"
   ]
  },
  {
   "cell_type": "markdown",
   "metadata": {},
   "source": [
    "### Building and Traininng Naive Bayes Model\n",
    "\n",
    "In this step you will split your feature set into a training and a test set. Then you will create a Bayes classifier instance using `nltk.NaiveBayesClassifier.train` ([example](https://www.nltk.org/book/ch06.html)) to train with the training dataset.\n",
    "\n",
    "After training the model, call `classifier.show_most_informative_features()` to inspect the most important features. The output will look like:\n",
    "\n",
    "```\n",
    "Most Informative Features\n",
    "\t    snow = True            False : True   =     34.3 : 1.0\n",
    "\t  easter = True            False : True   =     26.2 : 1.0\n",
    "\t headach = True            False : True   =     20.9 : 1.0\n",
    "\t    argh = True            False : True   =     17.6 : 1.0\n",
    "\tunfortun = True            False : True   =     16.9 : 1.0\n",
    "\t    jona = True             True : False  =     16.2 : 1.0\n",
    "\t     ach = True            False : True   =     14.9 : 1.0\n",
    "\t     sad = True            False : True   =     13.0 : 1.0\n",
    "\t  parent = True            False : True   =     12.9 : 1.0\n",
    "\t  spring = True            False : True   =     12.7 : 1.0\n",
    "```\n",
    "\n",
    "The [following video](https://www.youtube.com/watch?v=rISOsUaTrO4) will help you complete this step. The source code in this video can be found [here](https://pythonprogramming.net/naive-bayes-classifier-nltk-tutorial/)."
   ]
  },
  {
   "cell_type": "markdown",
   "metadata": {},
   "source": [
    "[![Building and Training NB](nb-model-building.jpg)](https://www.youtube.com/watch?v=rISOsUaTrO4)"
   ]
  },
  {
   "cell_type": "code",
   "execution_count": 26,
   "metadata": {},
   "outputs": [],
   "source": [
    "# set that we'll train our classifier with\n",
    "train_set = featuresets[:1900]\n",
    "\n",
    "# set that we'll test against.\n",
    "test_set = featuresets[1900:]"
   ]
  },
  {
   "cell_type": "code",
   "execution_count": 27,
   "metadata": {},
   "outputs": [],
   "source": [
    "classifier = nltk.NaiveBayesClassifier.train(train_set)"
   ]
  },
  {
   "cell_type": "markdown",
   "metadata": {},
   "source": [
    "### Testing Naive Bayes Model\n",
    "\n",
    "Now we'll test our classifier with the test dataset. This is done by calling `nltk.classify.accuracy(classifier, test)`.\n",
    "\n",
    "As mentioned in one of the tutorial videos, a Naive Bayes model is considered OK if your accuracy score is over 0.6. If your accuracy score is over 0.7, you've done a great job!"
   ]
  },
  {
   "cell_type": "code",
   "execution_count": 28,
   "metadata": {},
   "outputs": [
    {
     "data": {
      "text/plain": [
       "0.6793827160493827"
      ]
     },
     "execution_count": 28,
     "metadata": {},
     "output_type": "execute_result"
    }
   ],
   "source": [
    "nltk.classify.accuracy(classifier, test_set)"
   ]
  },
  {
   "cell_type": "code",
   "execution_count": 29,
   "metadata": {},
   "outputs": [
    {
     "name": "stdout",
     "output_type": "stream",
     "text": [
      "Most Informative Features\n",
      "                     sad = True                0 : 4      =     28.5 : 1.0\n",
      "                    damn = True                0 : 4      =     10.2 : 1.0\n",
      "                    rain = True                0 : 4      =      9.5 : 1.0\n",
      "                    poor = True                0 : 4      =      8.8 : 1.0\n",
      "                    suck = True                0 : 4      =      8.2 : 1.0\n",
      "                     cri = True                0 : 4      =      8.1 : 1.0\n",
      "                    sick = True                0 : 4      =      8.1 : 1.0\n",
      "                   thank = True                4 : 0      =      7.5 : 1.0\n",
      "                    cute = True                4 : 0      =      7.3 : 1.0\n",
      "                    late = True                0 : 4      =      6.7 : 1.0\n",
      "                  believ = True                0 : 4      =      6.0 : 1.0\n",
      "                   found = True                0 : 4      =      6.0 : 1.0\n",
      "                 serious = True                0 : 4      =      6.0 : 1.0\n",
      "                   check = True                4 : 0      =      5.5 : 1.0\n",
      "                     kid = True                4 : 0      =      5.4 : 1.0\n"
     ]
    }
   ],
   "source": [
    "classifier.show_most_informative_features(15)"
   ]
  },
  {
   "cell_type": "markdown",
   "metadata": {},
   "source": [
    "## Bonus Question 1: Improve Model Performance\n",
    "\n",
    "If you are still not exhausted so far and want to dig deeper, try to improve your classifier performance. There are many aspects you can dig into, for example:\n",
    "\n",
    "* Improve stemming and lemmatization. Inspect your bag of words and the most important features. Are there any words you should furuther remove from analysis? You can append these words to further remove to the stop words list.\n",
    "\n",
    "* Remember we only used the top 5,000 features to build model? Try using different numbers of top features. The bottom line is to use as few features as you can without compromising your model performance. The fewer features you select into your model, the faster your model is trained. Then you can use a larger sample size to improve your model accuracy score."
   ]
  },
  {
   "cell_type": "code",
   "execution_count": 30,
   "metadata": {},
   "outputs": [
    {
     "data": {
      "text/plain": [
       "0.717037037037037"
      ]
     },
     "execution_count": 30,
     "metadata": {},
     "output_type": "execute_result"
    }
   ],
   "source": [
    "# Increase training set\n",
    "train_set = featuresets[:3000]\n",
    "\n",
    "# Test set\n",
    "test_set = featuresets[1900:]\n",
    "\n",
    "classifier = nltk.NaiveBayesClassifier.train(train_set)\n",
    "nltk.classify.accuracy(classifier, test_set)"
   ]
  },
  {
   "cell_type": "markdown",
   "metadata": {},
   "source": [
    "By increasing our training set, model performance improved to 0.71!"
   ]
  },
  {
   "cell_type": "code",
   "execution_count": null,
   "metadata": {},
   "outputs": [],
   "source": []
  },
  {
   "cell_type": "markdown",
   "metadata": {},
   "source": [
    "## Bonus Question 2: Machine Learning Pipeline\n",
    "\n",
    "In a new Jupyter Notebook, combine all your codes into a function (or a class). Your new function will execute the complete machine learning pipeline job by receiving the dataset location and output the classifier. This will allow you to use your function to predict the sentiment of any tweet in real time. "
   ]
  },
  {
   "cell_type": "code",
   "execution_count": null,
   "metadata": {},
   "outputs": [],
   "source": [
    "# your code here"
   ]
  },
  {
   "cell_type": "markdown",
   "metadata": {},
   "source": [
    "## Bonus Question 3: Apache Spark\n",
    "\n",
    "If you have completed the Apache Spark advanced topic lab, what you can do is to migrate your pipeline from local to a Databricks Notebook. Share your notebook with your instructor and classmates to show off your achievements!"
   ]
  },
  {
   "cell_type": "code",
   "execution_count": null,
   "metadata": {},
   "outputs": [],
   "source": [
    "# your code here"
   ]
  }
 ],
 "metadata": {
  "kernelspec": {
   "display_name": "Python 3 (ipykernel)",
   "language": "python",
   "name": "python3"
  },
  "language_info": {
   "codemirror_mode": {
    "name": "ipython",
    "version": 3
   },
   "file_extension": ".py",
   "mimetype": "text/x-python",
   "name": "python",
   "nbconvert_exporter": "python",
   "pygments_lexer": "ipython3",
   "version": "3.9.13"
  }
 },
 "nbformat": 4,
 "nbformat_minor": 2
}
